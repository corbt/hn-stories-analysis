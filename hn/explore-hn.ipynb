{
 "cells": [
  {
   "cell_type": "code",
   "execution_count": 1,
   "metadata": {},
   "outputs": [],
   "source": [
    "import pandas as pd\n",
    "\n",
    "df = pd.read_json('/workspace/data/hn/stories_dump.jsonl', lines=True)\n",
    "df.to_feather('/workspace/data/hn/stories_dump.feather')\n",
    "\n",
    "df.describe()"
   ]
  },
  {
   "cell_type": "code",
   "execution_count": 48,
   "metadata": {},
   "outputs": [],
   "source": [
    "import pandas as pd\n",
    "\n",
    "df = pd.read_feather('/workspace/data/hn/stories_dump.feather')"
   ]
  },
  {
   "cell_type": "code",
   "execution_count": 59,
   "metadata": {},
   "outputs": [],
   "source": [
    "df.rename(columns={'descendants': 'comments'}, inplace=True)\n",
    "\n",
    "df['time'] = pd.to_datetime(df['time'], unit='s')\n",
    "df['dead'] = df.dead.fillna(0).astype(bool)"
   ]
  },
  {
   "cell_type": "code",
   "execution_count": 60,
   "metadata": {},
   "outputs": [],
   "source": [
    "# Keep stories from 2018 onward in case community tastes have changed\n",
    "df = df[df['time'].dt.year > 2017]"
   ]
  },
  {
   "cell_type": "code",
   "execution_count": 61,
   "metadata": {},
   "outputs": [
    {
     "name": "stdout",
     "output_type": "stream",
     "text": [
      "(1523641, 15)\n",
      "(1523641, 15)\n"
     ]
    }
   ],
   "source": [
    "# Deduplicate stories based on the URL. Keep the one with the highest score.\n",
    "\n",
    "print(df.shape)\n",
    "\n",
    "df.sort_values(by=['score'], ascending=False, inplace=True)\n",
    "df = df.drop_duplicates(subset=['url'], keep='first')\n",
    "\n",
    "print(df.shape)"
   ]
  },
  {
   "cell_type": "code",
   "execution_count": 79,
   "metadata": {},
   "outputs": [
    {
     "data": {
      "text/html": [
       "<div>\n",
       "<style scoped>\n",
       "    .dataframe tbody tr th:only-of-type {\n",
       "        vertical-align: middle;\n",
       "    }\n",
       "\n",
       "    .dataframe tbody tr th {\n",
       "        vertical-align: top;\n",
       "    }\n",
       "\n",
       "    .dataframe thead th {\n",
       "        text-align: right;\n",
       "    }\n",
       "</style>\n",
       "<table border=\"1\" class=\"dataframe\">\n",
       "  <thead>\n",
       "    <tr style=\"text-align: right;\">\n",
       "      <th>has_text</th>\n",
       "      <th>False</th>\n",
       "      <th>True</th>\n",
       "    </tr>\n",
       "    <tr>\n",
       "      <th>frontpage</th>\n",
       "      <th></th>\n",
       "      <th></th>\n",
       "    </tr>\n",
       "  </thead>\n",
       "  <tbody>\n",
       "    <tr>\n",
       "      <th>False</th>\n",
       "      <td>0.870548</td>\n",
       "      <td>0.002969</td>\n",
       "    </tr>\n",
       "    <tr>\n",
       "      <th>True</th>\n",
       "      <td>0.125653</td>\n",
       "      <td>0.000831</td>\n",
       "    </tr>\n",
       "  </tbody>\n",
       "</table>\n",
       "</div>"
      ],
      "text/plain": [
       "has_text      False     True \n",
       "frontpage                    \n",
       "False      0.870548  0.002969\n",
       "True       0.125653  0.000831"
      ]
     },
     "execution_count": 79,
     "metadata": {},
     "output_type": "execute_result"
    }
   ],
   "source": [
    "df['frontpage'] = (df.score > 20) | (df.comments > 10)\n",
    "df['has_text'] = df['text'].notnull()\n",
    "\n",
    "# Show a 2x2 table of the number of stories that are probably frontpage and have text.\n",
    "stack = df.groupby(['frontpage', 'has_text']).size().unstack()\n",
    "\n",
    "stack = stack / len(df)\n",
    "stack"
   ]
  },
  {
   "cell_type": "code",
   "execution_count": 70,
   "metadata": {},
   "outputs": [
    {
     "data": {
      "text/html": [
       "<table border=\"1\" class=\"dataframe\">\n",
       "  <thead>\n",
       "    <tr style=\"text-align: right;\">\n",
       "      <th></th>\n",
       "      <th>by</th>\n",
       "      <th>comments</th>\n",
       "      <th>id</th>\n",
       "      <th>score</th>\n",
       "      <th>time</th>\n",
       "      <th>title</th>\n",
       "      <th>type</th>\n",
       "      <th>url</th>\n",
       "      <th>dead</th>\n",
       "      <th>text</th>\n",
       "      <th>kids</th>\n",
       "      <th>deleted</th>\n",
       "      <th>probably_frontpage</th>\n",
       "      <th>has_text</th>\n",
       "      <th>week</th>\n",
       "    </tr>\n",
       "  </thead>\n",
       "  <tbody>\n",
       "    <tr>\n",
       "      <th>1098157</th>\n",
       "      <td>IreneisHippie</td>\n",
       "      <td>NaN</td>\n",
       "      <td>24300356</td>\n",
       "      <td>1.0</td>\n",
       "      <td>2020-08-28 00:55:31</td>\n",
       "      <td>Exploring the Huawei Health Kit: Data Controller</td>\n",
       "      <td>story</td>\n",
       "      <td>https://forums.developer.huawei.com/forumPortal/en/topicview?tid=0201326975480310022&amp;fid=0101246461018590361</td>\n",
       "      <td>True</td>\n",
       "      <td>None</td>\n",
       "      <td>None</td>\n",
       "      <td>NaN</td>\n",
       "      <td>False</td>\n",
       "      <td>False</td>\n",
       "      <td>2020-35</td>\n",
       "    </tr>\n",
       "    <tr>\n",
       "      <th>759067</th>\n",
       "      <td>cbdvskratom</td>\n",
       "      <td>NaN</td>\n",
       "      <td>27632309</td>\n",
       "      <td>1.0</td>\n",
       "      <td>2021-06-25 15:50:59</td>\n",
       "      <td>CBD Oil During Pregnancy: Is IT Safe to Use?</td>\n",
       "      <td>story</td>\n",
       "      <td>https://cbdvskratom.com/cbd-oil-during-pregnancy-is-it-safe-to-use/</td>\n",
       "      <td>True</td>\n",
       "      <td>None</td>\n",
       "      <td>None</td>\n",
       "      <td>NaN</td>\n",
       "      <td>False</td>\n",
       "      <td>False</td>\n",
       "      <td>2021-25</td>\n",
       "    </tr>\n",
       "    <tr>\n",
       "      <th>1799815</th>\n",
       "      <td>cb305</td>\n",
       "      <td>NaN</td>\n",
       "      <td>18478353</td>\n",
       "      <td>1.0</td>\n",
       "      <td>2018-11-18 01:22:21</td>\n",
       "      <td>The Keys to Well Being – Wellness and High Vibration Living</td>\n",
       "      <td>story</td>\n",
       "      <td>https://www.peaceful-island.com/insights-by-peaceful-island/the-keys-to-wellness-and-well-being-how-to-live-a-high-vibration-life-depression-anxiety-insomnia-chronic-illness-remission-cancer-treatment-alternatives-healthy-living-positive</td>\n",
       "      <td>True</td>\n",
       "      <td>None</td>\n",
       "      <td>None</td>\n",
       "      <td>NaN</td>\n",
       "      <td>False</td>\n",
       "      <td>False</td>\n",
       "      <td>2018-46</td>\n",
       "    </tr>\n",
       "    <tr>\n",
       "      <th>1451820</th>\n",
       "      <td>musicpromotion</td>\n",
       "      <td>NaN</td>\n",
       "      <td>21387213</td>\n",
       "      <td>1.0</td>\n",
       "      <td>2019-10-29 13:59:14</td>\n",
       "      <td>Crystal Starr's UK Press Tour</td>\n",
       "      <td>story</td>\n",
       "      <td>https://musicnews.skunkradiolive.com/2019/10/Music-News-RNB-Tour-Announcements-Dates-2019-October-29-Crystal-Starr.html#.XbhFoEJGSbU.hackernews</td>\n",
       "      <td>True</td>\n",
       "      <td>None</td>\n",
       "      <td>None</td>\n",
       "      <td>NaN</td>\n",
       "      <td>False</td>\n",
       "      <td>False</td>\n",
       "      <td>2019-44</td>\n",
       "    </tr>\n",
       "    <tr>\n",
       "      <th>2066413</th>\n",
       "      <td>deviceguru</td>\n",
       "      <td>NaN</td>\n",
       "      <td>16476993</td>\n",
       "      <td>1.0</td>\n",
       "      <td>2018-02-27 19:30:27</td>\n",
       "      <td>Customizable Alexa dev board runs Linux on i.MX7 module</td>\n",
       "      <td>story</td>\n",
       "      <td>http://linuxgizmos.com/customizable-alexa-development-board-builds-on-i-mx7-module/</td>\n",
       "      <td>True</td>\n",
       "      <td>None</td>\n",
       "      <td>None</td>\n",
       "      <td>NaN</td>\n",
       "      <td>False</td>\n",
       "      <td>False</td>\n",
       "      <td>2018-9</td>\n",
       "    </tr>\n",
       "    <tr>\n",
       "      <th>1760159</th>\n",
       "      <td>sami6006163</td>\n",
       "      <td>NaN</td>\n",
       "      <td>18783045</td>\n",
       "      <td>1.0</td>\n",
       "      <td>2018-12-29 10:52:28</td>\n",
       "      <td>FIFA 19 Patch  and Serial Keygen Generator Free Download</td>\n",
       "      <td>story</td>\n",
       "      <td>https://fifa19crack.info/fifa-19-patch-serial-keygen-generator-free-download/</td>\n",
       "      <td>True</td>\n",
       "      <td>None</td>\n",
       "      <td>None</td>\n",
       "      <td>NaN</td>\n",
       "      <td>False</td>\n",
       "      <td>False</td>\n",
       "      <td>2018-52</td>\n",
       "    </tr>\n",
       "    <tr>\n",
       "      <th>991024</th>\n",
       "      <td>Kodziak</td>\n",
       "      <td>NaN</td>\n",
       "      <td>25282815</td>\n",
       "      <td>1.0</td>\n",
       "      <td>2020-12-02 22:49:29</td>\n",
       "      <td>First steps with UI test automation</td>\n",
       "      <td>story</td>\n",
       "      <td>https://kodziak.com/blog/first-steps-with-test-automation/</td>\n",
       "      <td>True</td>\n",
       "      <td>None</td>\n",
       "      <td>[25282817]</td>\n",
       "      <td>NaN</td>\n",
       "      <td>False</td>\n",
       "      <td>False</td>\n",
       "      <td>2020-49</td>\n",
       "    </tr>\n",
       "    <tr>\n",
       "      <th>946297</th>\n",
       "      <td>mrfusion</td>\n",
       "      <td>NaN</td>\n",
       "      <td>25738072</td>\n",
       "      <td>2.0</td>\n",
       "      <td>2021-01-11 22:07:35</td>\n",
       "      <td>Florida puts New York to shame in rational pandemic policies</td>\n",
       "      <td>story</td>\n",
       "      <td>https://nypost.com/2021/01/10/florida-puts-new-york-to-shame-in-rational-pandemic-policies/</td>\n",
       "      <td>True</td>\n",
       "      <td>None</td>\n",
       "      <td>None</td>\n",
       "      <td>NaN</td>\n",
       "      <td>False</td>\n",
       "      <td>False</td>\n",
       "      <td>2021-2</td>\n",
       "    </tr>\n",
       "    <tr>\n",
       "      <th>1221340</th>\n",
       "      <td>Samisthebest</td>\n",
       "      <td>NaN</td>\n",
       "      <td>23221985</td>\n",
       "      <td>1.0</td>\n",
       "      <td>2020-05-18 13:23:47</td>\n",
       "      <td>Free Robux Promo Codes for Roblox</td>\n",
       "      <td>story</td>\n",
       "      <td>https://rbx.fyi/?r=lN1F3</td>\n",
       "      <td>True</td>\n",
       "      <td>None</td>\n",
       "      <td>None</td>\n",
       "      <td>NaN</td>\n",
       "      <td>False</td>\n",
       "      <td>False</td>\n",
       "      <td>2020-21</td>\n",
       "    </tr>\n",
       "    <tr>\n",
       "      <th>1841826</th>\n",
       "      <td>smkghosh</td>\n",
       "      <td>NaN</td>\n",
       "      <td>18159158</td>\n",
       "      <td>1.0</td>\n",
       "      <td>2018-10-07 06:38:50</td>\n",
       "      <td>Top Fastest Supercomputers in the World(#2 Is the Best)</td>\n",
       "      <td>story</td>\n",
       "      <td>https://tekkibytes.com/top-10-fastest-supercomputer-in-the-world/</td>\n",
       "      <td>True</td>\n",
       "      <td>None</td>\n",
       "      <td>None</td>\n",
       "      <td>NaN</td>\n",
       "      <td>False</td>\n",
       "      <td>False</td>\n",
       "      <td>2018-40</td>\n",
       "    </tr>\n",
       "  </tbody>\n",
       "</table>"
      ],
      "text/plain": [
       "<IPython.core.display.HTML object>"
      ]
     },
     "execution_count": 70,
     "metadata": {},
     "output_type": "execute_result"
    }
   ],
   "source": [
    "# show as html\n",
    "import pandas as pd\n",
    "from IPython.display import HTML\n",
    "\n",
    "HTML(df[df.dead].sample(10).to_html())"
   ]
  },
  {
   "cell_type": "code",
   "execution_count": 78,
   "metadata": {},
   "outputs": [
    {
     "ename": "AttributeError",
     "evalue": "'DataFrame' object has no attribute 'frontpage'",
     "output_type": "error",
     "traceback": [
      "\u001b[0;31m---------------------------------------------------------------------------\u001b[0m",
      "\u001b[0;31mAttributeError\u001b[0m                            Traceback (most recent call last)",
      "\u001b[0;32m/tmp/ipykernel_2294/3582143429.py\u001b[0m in \u001b[0;36m?\u001b[0;34m()\u001b[0m\n\u001b[0;32m----> 1\u001b[0;31m \u001b[0mdf\u001b[0m\u001b[0;34m[\u001b[0m\u001b[0mdf\u001b[0m\u001b[0;34m.\u001b[0m\u001b[0mfrontpage\u001b[0m\u001b[0;34m]\u001b[0m\u001b[0;34m\u001b[0m\u001b[0;34m\u001b[0m\u001b[0m\n\u001b[0m",
      "\u001b[0;32m/usr/local/lib/python3.10/dist-packages/pandas/core/generic.py\u001b[0m in \u001b[0;36m?\u001b[0;34m(self, name)\u001b[0m\n\u001b[1;32m   5985\u001b[0m             \u001b[0;32mand\u001b[0m \u001b[0mname\u001b[0m \u001b[0;32mnot\u001b[0m \u001b[0;32min\u001b[0m \u001b[0mself\u001b[0m\u001b[0;34m.\u001b[0m\u001b[0m_accessors\u001b[0m\u001b[0;34m\u001b[0m\u001b[0;34m\u001b[0m\u001b[0m\n\u001b[1;32m   5986\u001b[0m             \u001b[0;32mand\u001b[0m \u001b[0mself\u001b[0m\u001b[0;34m.\u001b[0m\u001b[0m_info_axis\u001b[0m\u001b[0;34m.\u001b[0m\u001b[0m_can_hold_identifiers_and_holds_name\u001b[0m\u001b[0;34m(\u001b[0m\u001b[0mname\u001b[0m\u001b[0;34m)\u001b[0m\u001b[0;34m\u001b[0m\u001b[0;34m\u001b[0m\u001b[0m\n\u001b[1;32m   5987\u001b[0m         ):\n\u001b[1;32m   5988\u001b[0m             \u001b[0;32mreturn\u001b[0m \u001b[0mself\u001b[0m\u001b[0;34m[\u001b[0m\u001b[0mname\u001b[0m\u001b[0;34m]\u001b[0m\u001b[0;34m\u001b[0m\u001b[0;34m\u001b[0m\u001b[0m\n\u001b[0;32m-> 5989\u001b[0;31m         \u001b[0;32mreturn\u001b[0m \u001b[0mobject\u001b[0m\u001b[0;34m.\u001b[0m\u001b[0m__getattribute__\u001b[0m\u001b[0;34m(\u001b[0m\u001b[0mself\u001b[0m\u001b[0;34m,\u001b[0m \u001b[0mname\u001b[0m\u001b[0;34m)\u001b[0m\u001b[0;34m\u001b[0m\u001b[0;34m\u001b[0m\u001b[0m\n\u001b[0m",
      "\u001b[0;31mAttributeError\u001b[0m: 'DataFrame' object has no attribute 'frontpage'"
     ]
    }
   ],
   "source": [
    "df[df.frontpage]"
   ]
  },
  {
   "cell_type": "code",
   "execution_count": 64,
   "metadata": {},
   "outputs": [
    {
     "data": {
      "text/plain": [
       "<Axes: xlabel='week'>"
      ]
     },
     "execution_count": 64,
     "metadata": {},
     "output_type": "execute_result"
    },
    {
     "data": {
      "image/png": "[encoded data removed]",
      "text/plain": [
       "<Figure size 640x480 with 1 Axes>"
      ]
     },
     "metadata": {},
     "output_type": "display_data"
    }
   ],
   "source": [
    "# Graph the number of stories by week\n",
    "\n",
    "df['week'] = df['time'].dt.year.astype(str) + '-' + df['time'].dt.isocalendar().week.astype(str)\n",
    "\n",
    "\n",
    "df['week'].value_counts().sort_index().plot()"
   ]
  },
  {
   "cell_type": "code",
   "execution_count": 65,
   "metadata": {},
   "outputs": [
    {
     "data": {
      "text/plain": [
       "(1523641, 15)"
      ]
     },
     "execution_count": 65,
     "metadata": {},
     "output_type": "execute_result"
    }
   ],
   "source": [
    "df[df['time'].dt.year > 2017].shape"
   ]
  },
  {
   "cell_type": "code",
   "execution_count": 77,
   "metadata": {},
   "outputs": [
    {
     "data": {
      "text/plain": [
       "(1517852, 15)"
      ]
     },
     "execution_count": 77,
     "metadata": {},
     "output_type": "execute_result"
    }
   ],
   "source": [
    "df[df.text.isna()].shape"
   ]
  }
 ],
 "metadata": {
  "kernelspec": {
   "display_name": "Python 3",
   "language": "python",
   "name": "python3"
  },
  "language_info": {
   "codemirror_mode": {
    "name": "ipython",
    "version": 3
   },
   "file_extension": ".py",
   "mimetype": "text/x-python",
   "name": "python",
   "nbconvert_exporter": "python",
   "pygments_lexer": "ipython3",
   "version": "3.10.6"
  },
  "orig_nbformat": 4
 },
 "nbformat": 4,
 "nbformat_minor": 2
}
