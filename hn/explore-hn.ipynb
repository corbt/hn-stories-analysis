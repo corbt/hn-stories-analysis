{
 "cells": [
  {
   "cell_type": "code",
   "execution_count": 4,
   "metadata": {},
   "outputs": [
    {
     "data": {
      "text/html": [
       "<div>\n",
       "<style scoped>\n",
       "    .dataframe tbody tr th:only-of-type {\n",
       "        vertical-align: middle;\n",
       "    }\n",
       "\n",
       "    .dataframe tbody tr th {\n",
       "        vertical-align: top;\n",
       "    }\n",
       "\n",
       "    .dataframe thead th {\n",
       "        text-align: right;\n",
       "    }\n",
       "</style>\n",
       "<table border=\"1\" class=\"dataframe\">\n",
       "  <thead>\n",
       "    <tr style=\"text-align: right;\">\n",
       "      <th></th>\n",
       "      <th>descendants</th>\n",
       "      <th>id</th>\n",
       "      <th>score</th>\n",
       "      <th>time</th>\n",
       "      <th>dead</th>\n",
       "      <th>deleted</th>\n",
       "    </tr>\n",
       "  </thead>\n",
       "  <tbody>\n",
       "    <tr>\n",
       "      <th>count</th>\n",
       "      <td>4.014643e+06</td>\n",
       "      <td>4.920000e+06</td>\n",
       "      <td>4.694930e+06</td>\n",
       "      <td>4.893182e+06</td>\n",
       "      <td>996786.0</td>\n",
       "      <td>198228.0</td>\n",
       "    </tr>\n",
       "    <tr>\n",
       "      <th>mean</th>\n",
       "      <td>7.359605e+00</td>\n",
       "      <td>1.513293e+07</td>\n",
       "      <td>1.321535e+01</td>\n",
       "      <td>1.480524e+09</td>\n",
       "      <td>1.0</td>\n",
       "      <td>1.0</td>\n",
       "    </tr>\n",
       "    <tr>\n",
       "      <th>std</th>\n",
       "      <td>3.703572e+01</td>\n",
       "      <td>1.022987e+07</td>\n",
       "      <td>5.684069e+01</td>\n",
       "      <td>1.266091e+08</td>\n",
       "      <td>0.0</td>\n",
       "      <td>0.0</td>\n",
       "    </tr>\n",
       "    <tr>\n",
       "      <th>min</th>\n",
       "      <td>-1.000000e+00</td>\n",
       "      <td>3.330700e+04</td>\n",
       "      <td>-1.000000e+00</td>\n",
       "      <td>1.184007e+09</td>\n",
       "      <td>1.0</td>\n",
       "      <td>1.0</td>\n",
       "    </tr>\n",
       "    <tr>\n",
       "      <th>25%</th>\n",
       "      <td>0.000000e+00</td>\n",
       "      <td>6.166646e+06</td>\n",
       "      <td>1.000000e+00</td>\n",
       "      <td>1.376235e+09</td>\n",
       "      <td>1.0</td>\n",
       "      <td>1.0</td>\n",
       "    </tr>\n",
       "    <tr>\n",
       "      <th>50%</th>\n",
       "      <td>0.000000e+00</td>\n",
       "      <td>1.366938e+07</td>\n",
       "      <td>2.000000e+00</td>\n",
       "      <td>1.488378e+09</td>\n",
       "      <td>1.0</td>\n",
       "      <td>1.0</td>\n",
       "    </tr>\n",
       "    <tr>\n",
       "      <th>75%</th>\n",
       "      <td>1.000000e+00</td>\n",
       "      <td>2.314816e+07</td>\n",
       "      <td>3.000000e+00</td>\n",
       "      <td>1.589657e+09</td>\n",
       "      <td>1.0</td>\n",
       "      <td>1.0</td>\n",
       "    </tr>\n",
       "    <tr>\n",
       "      <th>max</th>\n",
       "      <td>4.576000e+03</td>\n",
       "      <td>3.634942e+07</td>\n",
       "      <td>6.015000e+03</td>\n",
       "      <td>1.686877e+09</td>\n",
       "      <td>1.0</td>\n",
       "      <td>1.0</td>\n",
       "    </tr>\n",
       "  </tbody>\n",
       "</table>\n",
       "</div>"
      ],
      "text/plain": [
       "        descendants            id         score          time      dead  \\\n",
       "count  4.014643e+06  4.920000e+06  4.694930e+06  4.893182e+06  996786.0   \n",
       "mean   7.359605e+00  1.513293e+07  1.321535e+01  1.480524e+09       1.0   \n",
       "std    3.703572e+01  1.022987e+07  5.684069e+01  1.266091e+08       0.0   \n",
       "min   -1.000000e+00  3.330700e+04 -1.000000e+00  1.184007e+09       1.0   \n",
       "25%    0.000000e+00  6.166646e+06  1.000000e+00  1.376235e+09       1.0   \n",
       "50%    0.000000e+00  1.366938e+07  2.000000e+00  1.488378e+09       1.0   \n",
       "75%    1.000000e+00  2.314816e+07  3.000000e+00  1.589657e+09       1.0   \n",
       "max    4.576000e+03  3.634942e+07  6.015000e+03  1.686877e+09       1.0   \n",
       "\n",
       "        deleted  \n",
       "count  198228.0  \n",
       "mean        1.0  \n",
       "std         0.0  \n",
       "min         1.0  \n",
       "25%         1.0  \n",
       "50%         1.0  \n",
       "75%         1.0  \n",
       "max         1.0  "
      ]
     },
     "execution_count": 4,
     "metadata": {},
     "output_type": "execute_result"
    }
   ],
   "source": [
    "import pandas as pd\n",
    "\n",
    "df = pd.read_json('/workspace/data/hn/stories_dump.jsonl', lines=True)\n",
    "df.to_feather('/workspace/data/hn/stories_dump.feather')\n",
    "\n",
    "df.describe()"
   ]
  },
  {
   "cell_type": "code",
   "execution_count": 5,
   "metadata": {},
   "outputs": [],
   "source": [
    "import pandas as pd\n",
    "\n",
    "df = pd.read_feather('/workspace/data/hn/stories_dump.feather')"
   ]
  },
  {
   "cell_type": "code",
   "execution_count": 6,
   "metadata": {},
   "outputs": [],
   "source": [
    "df.rename(columns={'descendants': 'comments'}, inplace=True)\n",
    "\n",
    "df['time'] = pd.to_datetime(df['time'], unit='s')"
   ]
  },
  {
   "cell_type": "code",
   "execution_count": 9,
   "metadata": {},
   "outputs": [
    {
     "name": "stdout",
     "output_type": "stream",
     "text": [
      "(4920000, 12)\n",
      "(3784295, 12)\n"
     ]
    }
   ],
   "source": [
    "# Deduplicate stories based on the URL. Keep the one with the highest score.\n",
    "\n",
    "print(df.shape)\n",
    "\n",
    "df.sort_values(by=['score'], ascending=False, inplace=True)\n",
    "df = df.drop_duplicates(subset=['url'], keep='first')\n",
    "\n",
    "print(df.shape)"
   ]
  },
  {
   "cell_type": "code",
   "execution_count": 13,
   "metadata": {},
   "outputs": [
    {
     "data": {
      "text/html": [
       "<div>\n",
       "<style scoped>\n",
       "    .dataframe tbody tr th:only-of-type {\n",
       "        vertical-align: middle;\n",
       "    }\n",
       "\n",
       "    .dataframe tbody tr th {\n",
       "        vertical-align: top;\n",
       "    }\n",
       "\n",
       "    .dataframe thead th {\n",
       "        text-align: right;\n",
       "    }\n",
       "</style>\n",
       "<table border=\"1\" class=\"dataframe\">\n",
       "  <thead>\n",
       "    <tr style=\"text-align: right;\">\n",
       "      <th>has_text</th>\n",
       "      <th>False</th>\n",
       "      <th>True</th>\n",
       "    </tr>\n",
       "    <tr>\n",
       "      <th>probably_frontpage</th>\n",
       "      <th></th>\n",
       "      <th></th>\n",
       "    </tr>\n",
       "  </thead>\n",
       "  <tbody>\n",
       "    <tr>\n",
       "      <th>False</th>\n",
       "      <td>2385015</td>\n",
       "      <td>1144317</td>\n",
       "    </tr>\n",
       "    <tr>\n",
       "      <th>True</th>\n",
       "      <td>225009</td>\n",
       "      <td>29954</td>\n",
       "    </tr>\n",
       "  </tbody>\n",
       "</table>\n",
       "</div>"
      ],
      "text/plain": [
       "has_text              False    True \n",
       "probably_frontpage                  \n",
       "False               2385015  1144317\n",
       "True                 225009    29954"
      ]
     },
     "execution_count": 13,
     "metadata": {},
     "output_type": "execute_result"
    }
   ],
   "source": [
    "df['probably_frontpage'] = df['score'] > 50\n",
    "df['has_text'] = df['text'].notnull()\n",
    "\n",
    "# Show a 2x2 table of the number of stories that are probably frontpage and have text.\n",
    "df.groupby(['probably_frontpage', 'has_text']).size().unstack()"
   ]
  }
 ],
 "metadata": {
  "kernelspec": {
   "display_name": "Python 3",
   "language": "python",
   "name": "python3"
  },
  "language_info": {
   "codemirror_mode": {
    "name": "ipython",
    "version": 3
   },
   "file_extension": ".py",
   "mimetype": "text/x-python",
   "name": "python",
   "nbconvert_exporter": "python",
   "pygments_lexer": "ipython3",
   "version": "3.10.6"
  },
  "orig_nbformat": 4
 },
 "nbformat": 4,
 "nbformat_minor": 2
}
