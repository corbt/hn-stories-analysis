{
 "cells": [
  {
   "cell_type": "code",
   "execution_count": 26,
   "metadata": {},
   "outputs": [
    {
     "data": {
      "text/plain": [
       "Index(['by', 'comments', 'id', 'score', 'time', 'title', 'type', 'url', 'dead',\n",
       "       'text', 'kids', 'deleted', 'frontpage', 'formatted_text', 'input_ids',\n",
       "       'token_type_ids', 'attention_mask'],\n",
       "      dtype='object')"
      ]
     },
     "execution_count": 26,
     "metadata": {},
     "output_type": "execute_result"
    }
   ],
   "source": [
    "import pandas as pd\n",
    "\n",
    "df = pd.read_feather('/workspace/data/hn/stories-tokenized.feather')\n",
    "df.columns\n"
   ]
  },
  {
   "cell_type": "code",
   "execution_count": 28,
   "metadata": {},
   "outputs": [
    {
     "name": "stderr",
     "output_type": "stream",
     "text": [
      "/tmp/ipykernel_6539/466835916.py:7: SettingWithCopyWarning: \n",
      "A value is trying to be set on a copy of a slice from a DataFrame\n",
      "\n",
      "See the caveats in the documentation: https://pandas.pydata.org/pandas-docs/stable/user_guide/indexing.html#returning-a-view-versus-a-copy\n",
      "  df['split'].loc[df['time'] > split_date] = 'test'\n"
     ]
    }
   ],
   "source": [
    "df = df.sort_values('time')\n",
    "split_date = df.iloc[int(len(df) * 0.95)]['time']\n",
    "\n",
    "split_date\n",
    "\n",
    "df['split'] = 'train'\n",
    "df['split'].loc[df['time'] > split_date] = 'test'"
   ]
  },
  {
   "cell_type": "code",
   "execution_count": 30,
   "metadata": {},
   "outputs": [
    {
     "data": {
      "text/plain": [
       "split\n",
       "test     0.170221\n",
       "train    0.126423\n",
       "Name: frontpage, dtype: float64"
      ]
     },
     "execution_count": 30,
     "metadata": {},
     "output_type": "execute_result"
    }
   ],
   "source": [
    "# See the % of stories that hit the front page broken down by split\n",
    "\n",
    "df.groupby('split').frontpage.mean()"
   ]
  },
  {
   "cell_type": "code",
   "execution_count": null,
   "metadata": {},
   "outputs": [],
   "source": [
    "split_date"
   ]
  },
  {
   "cell_type": "code",
   "execution_count": 23,
   "metadata": {},
   "outputs": [
    {
     "ename": "KeyError",
     "evalue": "\"['input_ids'] not in index\"",
     "output_type": "error",
     "traceback": [
      "\u001b[0;31m---------------------------------------------------------------------------\u001b[0m",
      "\u001b[0;31mKeyError\u001b[0m                                  Traceback (most recent call last)",
      "Cell \u001b[0;32mIn[23], line 1\u001b[0m\n\u001b[0;32m----> 1\u001b[0m df \u001b[39m=\u001b[39m df[[\u001b[39m'\u001b[39;49m\u001b[39mid\u001b[39;49m\u001b[39m'\u001b[39;49m, \u001b[39m'\u001b[39;49m\u001b[39mby\u001b[39;49m\u001b[39m'\u001b[39;49m, \u001b[39m'\u001b[39;49m\u001b[39mcomments\u001b[39;49m\u001b[39m'\u001b[39;49m, \u001b[39m'\u001b[39;49m\u001b[39mscore\u001b[39;49m\u001b[39m'\u001b[39;49m, \u001b[39m'\u001b[39;49m\u001b[39mtime\u001b[39;49m\u001b[39m'\u001b[39;49m, \u001b[39m'\u001b[39;49m\u001b[39mtitle\u001b[39;49m\u001b[39m'\u001b[39;49m, \u001b[39m'\u001b[39;49m\u001b[39murl\u001b[39;49m\u001b[39m'\u001b[39;49m, \u001b[39m'\u001b[39;49m\u001b[39mfrontpage\u001b[39;49m\u001b[39m'\u001b[39;49m, \u001b[39m'\u001b[39;49m\u001b[39minput_ids\u001b[39;49m\u001b[39m'\u001b[39;49m]]\n",
      "File \u001b[0;32m/usr/local/lib/python3.10/dist-packages/pandas/core/frame.py:3767\u001b[0m, in \u001b[0;36mDataFrame.__getitem__\u001b[0;34m(self, key)\u001b[0m\n\u001b[1;32m   3765\u001b[0m     \u001b[39mif\u001b[39;00m is_iterator(key):\n\u001b[1;32m   3766\u001b[0m         key \u001b[39m=\u001b[39m \u001b[39mlist\u001b[39m(key)\n\u001b[0;32m-> 3767\u001b[0m     indexer \u001b[39m=\u001b[39m \u001b[39mself\u001b[39;49m\u001b[39m.\u001b[39;49mcolumns\u001b[39m.\u001b[39;49m_get_indexer_strict(key, \u001b[39m\"\u001b[39;49m\u001b[39mcolumns\u001b[39;49m\u001b[39m\"\u001b[39;49m)[\u001b[39m1\u001b[39m]\n\u001b[1;32m   3769\u001b[0m \u001b[39m# take() does not accept boolean indexers\u001b[39;00m\n\u001b[1;32m   3770\u001b[0m \u001b[39mif\u001b[39;00m \u001b[39mgetattr\u001b[39m(indexer, \u001b[39m\"\u001b[39m\u001b[39mdtype\u001b[39m\u001b[39m\"\u001b[39m, \u001b[39mNone\u001b[39;00m) \u001b[39m==\u001b[39m \u001b[39mbool\u001b[39m:\n",
      "File \u001b[0;32m/usr/local/lib/python3.10/dist-packages/pandas/core/indexes/base.py:5876\u001b[0m, in \u001b[0;36mIndex._get_indexer_strict\u001b[0;34m(self, key, axis_name)\u001b[0m\n\u001b[1;32m   5873\u001b[0m \u001b[39melse\u001b[39;00m:\n\u001b[1;32m   5874\u001b[0m     keyarr, indexer, new_indexer \u001b[39m=\u001b[39m \u001b[39mself\u001b[39m\u001b[39m.\u001b[39m_reindex_non_unique(keyarr)\n\u001b[0;32m-> 5876\u001b[0m \u001b[39mself\u001b[39;49m\u001b[39m.\u001b[39;49m_raise_if_missing(keyarr, indexer, axis_name)\n\u001b[1;32m   5878\u001b[0m keyarr \u001b[39m=\u001b[39m \u001b[39mself\u001b[39m\u001b[39m.\u001b[39mtake(indexer)\n\u001b[1;32m   5879\u001b[0m \u001b[39mif\u001b[39;00m \u001b[39misinstance\u001b[39m(key, Index):\n\u001b[1;32m   5880\u001b[0m     \u001b[39m# GH 42790 - Preserve name from an Index\u001b[39;00m\n",
      "File \u001b[0;32m/usr/local/lib/python3.10/dist-packages/pandas/core/indexes/base.py:5938\u001b[0m, in \u001b[0;36mIndex._raise_if_missing\u001b[0;34m(self, key, indexer, axis_name)\u001b[0m\n\u001b[1;32m   5935\u001b[0m     \u001b[39mraise\u001b[39;00m \u001b[39mKeyError\u001b[39;00m(\u001b[39mf\u001b[39m\u001b[39m\"\u001b[39m\u001b[39mNone of [\u001b[39m\u001b[39m{\u001b[39;00mkey\u001b[39m}\u001b[39;00m\u001b[39m] are in the [\u001b[39m\u001b[39m{\u001b[39;00maxis_name\u001b[39m}\u001b[39;00m\u001b[39m]\u001b[39m\u001b[39m\"\u001b[39m)\n\u001b[1;32m   5937\u001b[0m not_found \u001b[39m=\u001b[39m \u001b[39mlist\u001b[39m(ensure_index(key)[missing_mask\u001b[39m.\u001b[39mnonzero()[\u001b[39m0\u001b[39m]]\u001b[39m.\u001b[39munique())\n\u001b[0;32m-> 5938\u001b[0m \u001b[39mraise\u001b[39;00m \u001b[39mKeyError\u001b[39;00m(\u001b[39mf\u001b[39m\u001b[39m\"\u001b[39m\u001b[39m{\u001b[39;00mnot_found\u001b[39m}\u001b[39;00m\u001b[39m not in index\u001b[39m\u001b[39m\"\u001b[39m)\n",
      "\u001b[0;31mKeyError\u001b[0m: \"['input_ids'] not in index\""
     ]
    }
   ],
   "source": [
    "df = df[['id', 'by', 'comments', 'score', 'time', 'title', 'url', 'frontpage', 'input_ids']]"
   ]
  },
  {
   "cell_type": "code",
   "execution_count": 6,
   "metadata": {},
   "outputs": [
    {
     "data": {
      "text/plain": [
       "frontpage\n",
       "False    1323006\n",
       "True      195270\n",
       "Name: count, dtype: int64"
      ]
     },
     "execution_count": 6,
     "metadata": {},
     "output_type": "execute_result"
    }
   ],
   "source": [
    "df.frontpage.value_counts()"
   ]
  },
  {
   "cell_type": "code",
   "execution_count": 9,
   "metadata": {},
   "outputs": [
    {
     "data": {
      "text/plain": [
       "(891739, 8)"
      ]
     },
     "execution_count": 9,
     "metadata": {},
     "output_type": "execute_result"
    }
   ],
   "source": [
    "# Get the top authors by percentage of frontpage stories\n",
    "# df.groupby\n",
    "\n",
    "# limit to folks who have submitted at least 3 stories that made the front page\n",
    "prolific_submitters = df[df.frontpage == True].by.value_counts() > 3\n",
    "\n",
    "new_df = df[df.by.isin(prolific_submitters[prolific_submitters].index)]\n",
    "\n",
    "new_df.shape"
   ]
  },
  {
   "cell_type": "code",
   "execution_count": 16,
   "metadata": {},
   "outputs": [
    {
     "data": {
      "text/html": [
       "<div>\n",
       "<style scoped>\n",
       "    .dataframe tbody tr th:only-of-type {\n",
       "        vertical-align: middle;\n",
       "    }\n",
       "\n",
       "    .dataframe tbody tr th {\n",
       "        vertical-align: top;\n",
       "    }\n",
       "\n",
       "    .dataframe thead th {\n",
       "        text-align: right;\n",
       "    }\n",
       "</style>\n",
       "<table border=\"1\" class=\"dataframe\">\n",
       "  <thead>\n",
       "    <tr style=\"text-align: right;\">\n",
       "      <th></th>\n",
       "      <th>id</th>\n",
       "      <th>by</th>\n",
       "      <th>comments</th>\n",
       "      <th>score</th>\n",
       "      <th>time</th>\n",
       "      <th>title</th>\n",
       "      <th>url</th>\n",
       "      <th>frontpage</th>\n",
       "      <th>prolific</th>\n",
       "      <th>fraction_fp</th>\n",
       "      <th>fraction_on_frontpage</th>\n",
       "    </tr>\n",
       "  </thead>\n",
       "  <tbody>\n",
       "    <tr>\n",
       "      <th>18</th>\n",
       "      <td>25015967</td>\n",
       "      <td>granzymes</td>\n",
       "      <td>4576.0</td>\n",
       "      <td>3089.0</td>\n",
       "      <td>2020-11-07 16:25:47</td>\n",
       "      <td>Biden wins White House, vowing new direction f...</td>\n",
       "      <td>https://apnews.com/article/joe-biden-wins-whit...</td>\n",
       "      <td>True</td>\n",
       "      <td>True</td>\n",
       "      <td>NaN</td>\n",
       "      <td>0.571429</td>\n",
       "    </tr>\n",
       "    <tr>\n",
       "      <th>66</th>\n",
       "      <td>19632449</td>\n",
       "      <td>kragniz</td>\n",
       "      <td>1119.0</td>\n",
       "      <td>2369.0</td>\n",
       "      <td>2019-04-11 09:37:56</td>\n",
       "      <td>Julian Assange arrested in London</td>\n",
       "      <td>https://www.bbc.co.uk/news/uk-47891737</td>\n",
       "      <td>True</td>\n",
       "      <td>True</td>\n",
       "      <td>NaN</td>\n",
       "      <td>0.555556</td>\n",
       "    </tr>\n",
       "    <tr>\n",
       "      <th>124</th>\n",
       "      <td>36283249</td>\n",
       "      <td>Freddie111</td>\n",
       "      <td>1133.0</td>\n",
       "      <td>1985.0</td>\n",
       "      <td>2023-06-11 17:10:10</td>\n",
       "      <td>Reddit Strike Has Started</td>\n",
       "      <td>https://reddark.untone.uk/</td>\n",
       "      <td>True</td>\n",
       "      <td>True</td>\n",
       "      <td>NaN</td>\n",
       "      <td>0.571429</td>\n",
       "    </tr>\n",
       "    <tr>\n",
       "      <th>145</th>\n",
       "      <td>25033844</td>\n",
       "      <td>isp</td>\n",
       "      <td>1148.0</td>\n",
       "      <td>1887.0</td>\n",
       "      <td>2020-11-09 11:59:05</td>\n",
       "      <td>Covid vaccine: First ‘milestone’ vaccine offer...</td>\n",
       "      <td>https://www.bbc.co.uk/news/health-54873105</td>\n",
       "      <td>True</td>\n",
       "      <td>True</td>\n",
       "      <td>NaN</td>\n",
       "      <td>0.542857</td>\n",
       "    </tr>\n",
       "    <tr>\n",
       "      <th>153</th>\n",
       "      <td>17022963</td>\n",
       "      <td>ivank</td>\n",
       "      <td>750.0</td>\n",
       "      <td>1875.0</td>\n",
       "      <td>2018-05-08 17:51:44</td>\n",
       "      <td>Google Duplex: An AI System for Accomplishing ...</td>\n",
       "      <td>https://ai.googleblog.com/2018/05/duplex-ai-sy...</td>\n",
       "      <td>True</td>\n",
       "      <td>True</td>\n",
       "      <td>NaN</td>\n",
       "      <td>0.689655</td>\n",
       "    </tr>\n",
       "    <tr>\n",
       "      <th>...</th>\n",
       "      <td>...</td>\n",
       "      <td>...</td>\n",
       "      <td>...</td>\n",
       "      <td>...</td>\n",
       "      <td>...</td>\n",
       "      <td>...</td>\n",
       "      <td>...</td>\n",
       "      <td>...</td>\n",
       "      <td>...</td>\n",
       "      <td>...</td>\n",
       "      <td>...</td>\n",
       "    </tr>\n",
       "    <tr>\n",
       "      <th>1517148</th>\n",
       "      <td>21210806</td>\n",
       "      <td>domino</td>\n",
       "      <td>0.0</td>\n",
       "      <td>1.0</td>\n",
       "      <td>2019-10-10 04:11:37</td>\n",
       "      <td>Serverless State: ServerlessConf Presentation ...</td>\n",
       "      <td>https://docs.google.com/presentation/d/1g06Umz...</td>\n",
       "      <td>False</td>\n",
       "      <td>True</td>\n",
       "      <td>NaN</td>\n",
       "      <td>0.666667</td>\n",
       "    </tr>\n",
       "    <tr>\n",
       "      <th>1517625</th>\n",
       "      <td>27503831</td>\n",
       "      <td>BCM43</td>\n",
       "      <td>0.0</td>\n",
       "      <td>1.0</td>\n",
       "      <td>2021-06-14 15:33:53</td>\n",
       "      <td>Stronger data security and privacy with Google...</td>\n",
       "      <td>https://workspaceupdates.googleblog.com/2021/0...</td>\n",
       "      <td>False</td>\n",
       "      <td>True</td>\n",
       "      <td>NaN</td>\n",
       "      <td>0.555556</td>\n",
       "    </tr>\n",
       "    <tr>\n",
       "      <th>1517849</th>\n",
       "      <td>27521590</td>\n",
       "      <td>Petiver</td>\n",
       "      <td>0.0</td>\n",
       "      <td>1.0</td>\n",
       "      <td>2021-06-15 21:14:36</td>\n",
       "      <td>Joseph George Strutt's Sylva Britannica (1822/...</td>\n",
       "      <td>https://publicdomainreview.org/collection/sylv...</td>\n",
       "      <td>False</td>\n",
       "      <td>True</td>\n",
       "      <td>NaN</td>\n",
       "      <td>0.707819</td>\n",
       "    </tr>\n",
       "    <tr>\n",
       "      <th>1518102</th>\n",
       "      <td>21206261</td>\n",
       "      <td>prismatic</td>\n",
       "      <td>0.0</td>\n",
       "      <td>1.0</td>\n",
       "      <td>2019-10-09 18:24:40</td>\n",
       "      <td>Chinese Influence in Persian Manuscript Illust...</td>\n",
       "      <td>http://ijmcr.com/wp-content/uploads/2017/08/Pa...</td>\n",
       "      <td>False</td>\n",
       "      <td>True</td>\n",
       "      <td>NaN</td>\n",
       "      <td>0.594883</td>\n",
       "    </tr>\n",
       "    <tr>\n",
       "      <th>1518121</th>\n",
       "      <td>21206678</td>\n",
       "      <td>pavehawk2007</td>\n",
       "      <td>NaN</td>\n",
       "      <td>1.0</td>\n",
       "      <td>2019-10-09 19:02:18</td>\n",
       "      <td>RISC-V OS Using Rust: Communications</td>\n",
       "      <td>https://osblog.stephenmarz.com/ch2.html</td>\n",
       "      <td>False</td>\n",
       "      <td>True</td>\n",
       "      <td>NaN</td>\n",
       "      <td>0.538462</td>\n",
       "    </tr>\n",
       "  </tbody>\n",
       "</table>\n",
       "<p>16710 rows × 11 columns</p>\n",
       "</div>"
      ],
      "text/plain": [
       "               id            by  comments   score                time  \\\n",
       "18       25015967     granzymes    4576.0  3089.0 2020-11-07 16:25:47   \n",
       "66       19632449       kragniz    1119.0  2369.0 2019-04-11 09:37:56   \n",
       "124      36283249    Freddie111    1133.0  1985.0 2023-06-11 17:10:10   \n",
       "145      25033844           isp    1148.0  1887.0 2020-11-09 11:59:05   \n",
       "153      17022963         ivank     750.0  1875.0 2018-05-08 17:51:44   \n",
       "...           ...           ...       ...     ...                 ...   \n",
       "1517148  21210806        domino       0.0     1.0 2019-10-10 04:11:37   \n",
       "1517625  27503831         BCM43       0.0     1.0 2021-06-14 15:33:53   \n",
       "1517849  27521590       Petiver       0.0     1.0 2021-06-15 21:14:36   \n",
       "1518102  21206261     prismatic       0.0     1.0 2019-10-09 18:24:40   \n",
       "1518121  21206678  pavehawk2007       NaN     1.0 2019-10-09 19:02:18   \n",
       "\n",
       "                                                     title  \\\n",
       "18       Biden wins White House, vowing new direction f...   \n",
       "66                       Julian Assange arrested in London   \n",
       "124                              Reddit Strike Has Started   \n",
       "145      Covid vaccine: First ‘milestone’ vaccine offer...   \n",
       "153      Google Duplex: An AI System for Accomplishing ...   \n",
       "...                                                    ...   \n",
       "1517148  Serverless State: ServerlessConf Presentation ...   \n",
       "1517625  Stronger data security and privacy with Google...   \n",
       "1517849  Joseph George Strutt's Sylva Britannica (1822/...   \n",
       "1518102  Chinese Influence in Persian Manuscript Illust...   \n",
       "1518121               RISC-V OS Using Rust: Communications   \n",
       "\n",
       "                                                       url  frontpage  \\\n",
       "18       https://apnews.com/article/joe-biden-wins-whit...       True   \n",
       "66                  https://www.bbc.co.uk/news/uk-47891737       True   \n",
       "124                             https://reddark.untone.uk/       True   \n",
       "145             https://www.bbc.co.uk/news/health-54873105       True   \n",
       "153      https://ai.googleblog.com/2018/05/duplex-ai-sy...       True   \n",
       "...                                                    ...        ...   \n",
       "1517148  https://docs.google.com/presentation/d/1g06Umz...      False   \n",
       "1517625  https://workspaceupdates.googleblog.com/2021/0...      False   \n",
       "1517849  https://publicdomainreview.org/collection/sylv...      False   \n",
       "1518102  http://ijmcr.com/wp-content/uploads/2017/08/Pa...      False   \n",
       "1518121            https://osblog.stephenmarz.com/ch2.html      False   \n",
       "\n",
       "         prolific  fraction_fp  fraction_on_frontpage  \n",
       "18           True          NaN               0.571429  \n",
       "66           True          NaN               0.555556  \n",
       "124          True          NaN               0.571429  \n",
       "145          True          NaN               0.542857  \n",
       "153          True          NaN               0.689655  \n",
       "...           ...          ...                    ...  \n",
       "1517148      True          NaN               0.666667  \n",
       "1517625      True          NaN               0.555556  \n",
       "1517849      True          NaN               0.707819  \n",
       "1518102      True          NaN               0.594883  \n",
       "1518121      True          NaN               0.538462  \n",
       "\n",
       "[16710 rows x 11 columns]"
      ]
     },
     "execution_count": 16,
     "metadata": {},
     "output_type": "execute_result"
    }
   ],
   "source": [
    "df['prolific'] = df.by.isin(prolific_submitters[prolific_submitters].index)\n",
    "\n",
    "df['fraction_on_frontpage'] = df.groupby('by').frontpage.transform('mean')\n",
    "\n",
    "df[df.prolific & (df.fraction_on_frontpage > 0.5)]"
   ]
  },
  {
   "cell_type": "code",
   "execution_count": 22,
   "metadata": {},
   "outputs": [
    {
     "data": {
      "text/plain": [
       "0.12542515326594111"
      ]
     },
     "execution_count": 22,
     "metadata": {},
     "output_type": "execute_result"
    }
   ],
   "source": [
    "df['fp_guess'] = 0\n",
    "\n",
    "df.loc[df.prolific & (df.fraction_on_frontpage > 0.5), 'fp_guess'] = 1\n",
    "\n",
    "# determine the MSE between the guess and the actual\n",
    "\n",
    "mse = ((df.frontpage.astype(float) - df.fp_guess)**2).mean()\n",
    "mse"
   ]
  },
  {
   "cell_type": "code",
   "execution_count": 25,
   "metadata": {},
   "outputs": [
    {
     "name": "stderr",
     "output_type": "stream",
     "text": [
      "Special tokens have been added in the vocabulary, make sure the associated word embeddings are fine-tuned or trained.\n",
      "/usr/local/lib/python3.10/dist-packages/transformers/convert_slow_tokenizer.py:454: UserWarning: The sentencepiece tokenizer that you are converting to a fast tokenizer uses the byte fallback option which is not implemented in the fast tokenizers. In practice this means that the fast version of the tokenizer can produce unknown tokens whereas the sentencepiece version would have converted these unknown tokens into a sequence of byte tokens matching the original piece of text.\n",
      "  warnings.warn(\n",
      "Special tokens have been added in the vocabulary, make sure the associated word embeddings are fine-tuned or trained.\n"
     ]
    },
    {
     "data": {
      "text/plain": [
       "'[CLS] Title: Stephen Hawking has died URL: http://www.bbc.com/news/uk-43396008 Poster: Cogito Date: Wednesday, March 14, 03:50 AM[SEP]'"
      ]
     },
     "execution_count": 25,
     "metadata": {},
     "output_type": "execute_result"
    }
   ],
   "source": [
    "from transformers import AutoTokenizer\n",
    "\n",
    "tokenizer = AutoTokenizer.from_pretrained('microsoft/deberta-v3-base')\n"
   ]
  },
  {
   "cell_type": "code",
   "execution_count": null,
   "metadata": {},
   "outputs": [],
   "source": [
    "\n",
    "print('tokenizer output')\n",
    "tokenizer.decode(df.input_ids[0])\n",
    "print(df.formatted_text[0])"
   ]
  }
 ],
 "metadata": {
  "kernelspec": {
   "display_name": "Python 3",
   "language": "python",
   "name": "python3"
  },
  "language_info": {
   "codemirror_mode": {
    "name": "ipython",
    "version": 3
   },
   "file_extension": ".py",
   "mimetype": "text/x-python",
   "name": "python",
   "nbconvert_exporter": "python",
   "pygments_lexer": "ipython3",
   "version": "3.10.6"
  },
  "orig_nbformat": 4
 },
 "nbformat": 4,
 "nbformat_minor": 2
}
